{
 "cells": [
  {
   "cell_type": "code",
   "execution_count": 1,
   "id": "ad04827a-fc24-45cd-84eb-5f38fc9057f2",
   "metadata": {},
   "outputs": [
    {
     "data": {
      "text/plain": [
       "3"
      ]
     },
     "execution_count": 1,
     "metadata": {},
     "output_type": "execute_result"
    }
   ],
   "source": [
    "1+2"
   ]
  },
  {
   "cell_type": "code",
   "execution_count": 13,
   "id": "ae08f82f-8470-4f47-942a-f47df9021ff6",
   "metadata": {},
   "outputs": [],
   "source": [
    "a = 10\n",
    "#a is variable  10 is data (integer data)"
   ]
  },
  {
   "cell_type": "code",
   "execution_count": 14,
   "id": "9bf99d20-ec8c-4def-8489-4ba9a52fcd28",
   "metadata": {},
   "outputs": [
    {
     "data": {
      "text/plain": [
       "10"
      ]
     },
     "execution_count": 14,
     "metadata": {},
     "output_type": "execute_result"
    }
   ],
   "source": [
    "a"
   ]
  },
  {
   "cell_type": "code",
   "execution_count": 1,
   "id": "f57107a5-09f8-4978-967a-ea51c351a0e7",
   "metadata": {},
   "outputs": [],
   "source": [
    "sagar = 123456"
   ]
  },
  {
   "cell_type": "code",
   "execution_count": 2,
   "id": "ff9c3a3d-91e1-435a-b4f8-b7562d130453",
   "metadata": {},
   "outputs": [
    {
     "data": {
      "text/plain": [
       "123456"
      ]
     },
     "execution_count": 2,
     "metadata": {},
     "output_type": "execute_result"
    }
   ],
   "source": [
    "sagar"
   ]
  },
  {
   "cell_type": "code",
   "execution_count": 6,
   "id": "6a4e6ffb-79f4-4ded-b810-07b2bab7d98f",
   "metadata": {},
   "outputs": [
    {
     "data": {
      "text/plain": [
       "int"
      ]
     },
     "execution_count": 6,
     "metadata": {},
     "output_type": "execute_result"
    }
   ],
   "source": [
    "type(sagar)\n"
   ]
  },
  {
   "cell_type": "code",
   "execution_count": 7,
   "id": "b4d5757a-e512-48f1-9cfa-5c1aa9861f47",
   "metadata": {},
   "outputs": [],
   "source": [
    "s = \"pwskills\""
   ]
  },
  {
   "cell_type": "code",
   "execution_count": 8,
   "id": "fc30989b-b1dc-4f90-93df-6a43dce1016c",
   "metadata": {},
   "outputs": [
    {
     "data": {
      "text/plain": [
       "str"
      ]
     },
     "execution_count": 8,
     "metadata": {},
     "output_type": "execute_result"
    }
   ],
   "source": [
    "type(s)"
   ]
  },
  {
   "cell_type": "code",
   "execution_count": 9,
   "id": "634d4105-2730-4779-9f48-f191e2b8d264",
   "metadata": {},
   "outputs": [
    {
     "data": {
      "text/plain": [
       "'pwskills'"
      ]
     },
     "execution_count": 9,
     "metadata": {},
     "output_type": "execute_result"
    }
   ],
   "source": [
    "s"
   ]
  },
  {
   "cell_type": "code",
   "execution_count": 10,
   "id": "9dd0f714-76ea-4169-a172-df7ea5ff8c09",
   "metadata": {},
   "outputs": [],
   "source": [
    "s1 = 'this is my first python lecture'"
   ]
  },
  {
   "cell_type": "code",
   "execution_count": 11,
   "id": "29c4174b-f554-44fc-b576-379181ad29df",
   "metadata": {},
   "outputs": [
    {
     "data": {
      "text/plain": [
       "'this is my first python lecture'"
      ]
     },
     "execution_count": 11,
     "metadata": {},
     "output_type": "execute_result"
    }
   ],
   "source": [
    "s1"
   ]
  },
  {
   "cell_type": "code",
   "execution_count": 12,
   "id": "42e73ccb-df9e-4efc-9408-bd653ceb1341",
   "metadata": {},
   "outputs": [
    {
     "data": {
      "text/plain": [
       "str"
      ]
     },
     "execution_count": 12,
     "metadata": {},
     "output_type": "execute_result"
    }
   ],
   "source": [
    "type(s1)"
   ]
  },
  {
   "cell_type": "code",
   "execution_count": 15,
   "id": "02ee4515-ff52-4c77-9b39-3d90daf608f6",
   "metadata": {},
   "outputs": [],
   "source": [
    "f = 466.213"
   ]
  },
  {
   "cell_type": "code",
   "execution_count": 16,
   "id": "f9f1b023-380d-4b49-96e8-79b156c35451",
   "metadata": {},
   "outputs": [
    {
     "data": {
      "text/plain": [
       "float"
      ]
     },
     "execution_count": 16,
     "metadata": {},
     "output_type": "execute_result"
    }
   ],
   "source": [
    "type(f)"
   ]
  },
  {
   "cell_type": "code",
   "execution_count": 17,
   "id": "72433f2e-ce4a-46c8-9763-39aa71d4387a",
   "metadata": {},
   "outputs": [],
   "source": [
    "c = 5+6j\n",
    "#j is notation for iota"
   ]
  },
  {
   "cell_type": "code",
   "execution_count": 18,
   "id": "94eba419-04d3-4b2f-bf82-39abdac7fbc4",
   "metadata": {},
   "outputs": [
    {
     "data": {
      "text/plain": [
       "complex"
      ]
     },
     "execution_count": 18,
     "metadata": {},
     "output_type": "execute_result"
    }
   ],
   "source": [
    "type(c)"
   ]
  },
  {
   "cell_type": "code",
   "execution_count": 19,
   "id": "40d6c0b3-b457-4834-b929-147db6691d4d",
   "metadata": {},
   "outputs": [
    {
     "data": {
      "text/plain": [
       "(5+6j)"
      ]
     },
     "execution_count": 19,
     "metadata": {},
     "output_type": "execute_result"
    }
   ],
   "source": [
    "c"
   ]
  },
  {
   "cell_type": "code",
   "execution_count": 20,
   "id": "edf4c659-b810-4db6-8e54-8124d1ea8eb6",
   "metadata": {},
   "outputs": [
    {
     "data": {
      "text/plain": [
       "5.0"
      ]
     },
     "execution_count": 20,
     "metadata": {},
     "output_type": "execute_result"
    }
   ],
   "source": [
    "c.real"
   ]
  },
  {
   "cell_type": "code",
   "execution_count": 21,
   "id": "e5f93f0c-47ee-4716-8e4f-a0e31e8247b3",
   "metadata": {},
   "outputs": [
    {
     "data": {
      "text/plain": [
       "6.0"
      ]
     },
     "execution_count": 21,
     "metadata": {},
     "output_type": "execute_result"
    }
   ],
   "source": [
    "c.imag"
   ]
  },
  {
   "cell_type": "code",
   "execution_count": 22,
   "id": "f5b92557-35db-421c-a9e2-06224439f150",
   "metadata": {},
   "outputs": [],
   "source": [
    "b = True"
   ]
  },
  {
   "cell_type": "code",
   "execution_count": 32,
   "id": "6e3af552-cbbb-4478-9e1d-2afcdcb50c05",
   "metadata": {},
   "outputs": [
    {
     "data": {
      "text/plain": [
       "bool"
      ]
     },
     "execution_count": 32,
     "metadata": {},
     "output_type": "execute_result"
    }
   ],
   "source": [
    "type(b)\n",
    "#bool is bulian true or false"
   ]
  },
  {
   "cell_type": "code",
   "execution_count": 24,
   "id": "9133850b-d5de-47f7-9b65-6e2cd9d13cb9",
   "metadata": {},
   "outputs": [],
   "source": [
    "b1 = False"
   ]
  },
  {
   "cell_type": "code",
   "execution_count": 25,
   "id": "c580046b-ecdc-4e1c-ae66-149e15e08e4f",
   "metadata": {},
   "outputs": [
    {
     "data": {
      "text/plain": [
       "bool"
      ]
     },
     "execution_count": 25,
     "metadata": {},
     "output_type": "execute_result"
    }
   ],
   "source": [
    "type(b1)"
   ]
  },
  {
   "cell_type": "code",
   "execution_count": 26,
   "id": "7366e91f-7c07-458a-bfdb-c120be07dc8f",
   "metadata": {},
   "outputs": [],
   "source": [
    "a1 = 45\n",
    "a2 = 34"
   ]
  },
  {
   "cell_type": "code",
   "execution_count": 27,
   "id": "ff06892b-a185-4a7e-a0f6-00e358101387",
   "metadata": {},
   "outputs": [
    {
     "data": {
      "text/plain": [
       "1530"
      ]
     },
     "execution_count": 27,
     "metadata": {},
     "output_type": "execute_result"
    }
   ],
   "source": [
    "a1*a2"
   ]
  },
  {
   "cell_type": "code",
   "execution_count": 28,
   "id": "4f983caf-7a3a-408f-90cb-6faa0f5d15c4",
   "metadata": {},
   "outputs": [
    {
     "data": {
      "text/plain": [
       "1.3235294117647058"
      ]
     },
     "execution_count": 28,
     "metadata": {},
     "output_type": "execute_result"
    }
   ],
   "source": [
    "a1/a2"
   ]
  },
  {
   "cell_type": "code",
   "execution_count": 29,
   "id": "e4f29ec4-1004-4ca2-8679-93dab7e6c709",
   "metadata": {},
   "outputs": [
    {
     "data": {
      "text/plain": [
       "11"
      ]
     },
     "execution_count": 29,
     "metadata": {},
     "output_type": "execute_result"
    }
   ],
   "source": [
    "a1-a2"
   ]
  },
  {
   "cell_type": "code",
   "execution_count": null,
   "id": "5aa72c5c-435e-46b3-bca3-db1f9830743a",
   "metadata": {},
   "outputs": [],
   "source": []
  },
  {
   "cell_type": "code",
   "execution_count": 31,
   "id": "6b5b85ed-1d6a-44d9-93c5-fd42ddc5de86",
   "metadata": {},
   "outputs": [
    {
     "data": {
      "text/plain": [
       "1.3235294117647058"
      ]
     },
     "execution_count": 31,
     "metadata": {},
     "output_type": "execute_result"
    }
   ],
   "source": [
    "45/34\n",
    "#why use variable a1 or a2?\n",
    "# just to icrease the  reusibilty of the data or code"
   ]
  },
  {
   "cell_type": "code",
   "execution_count": 33,
   "id": "34f1264e-7300-4eec-ace8-383ba0486267",
   "metadata": {},
   "outputs": [],
   "source": [
    "a1 , a2 = 34,45"
   ]
  },
  {
   "cell_type": "code",
   "execution_count": 34,
   "id": "670cff53-29ef-4256-999f-ca358c3575c4",
   "metadata": {},
   "outputs": [
    {
     "data": {
      "text/plain": [
       "34"
      ]
     },
     "execution_count": 34,
     "metadata": {},
     "output_type": "execute_result"
    }
   ],
   "source": [
    "a1"
   ]
  },
  {
   "cell_type": "code",
   "execution_count": 35,
   "id": "208592ee-8cea-4445-9a7b-421ca44aeaac",
   "metadata": {},
   "outputs": [
    {
     "data": {
      "text/plain": [
       "45"
      ]
     },
     "execution_count": 35,
     "metadata": {},
     "output_type": "execute_result"
    }
   ],
   "source": [
    "a2"
   ]
  },
  {
   "cell_type": "code",
   "execution_count": 36,
   "id": "9535444a-1d41-4e1e-a062-d59185589c62",
   "metadata": {},
   "outputs": [
    {
     "data": {
      "text/plain": [
       "int"
      ]
     },
     "execution_count": 36,
     "metadata": {},
     "output_type": "execute_result"
    }
   ],
   "source": [
    "type(a1)"
   ]
  },
  {
   "cell_type": "code",
   "execution_count": 37,
   "id": "427d9868-1102-4981-aeba-184fd38c605c",
   "metadata": {},
   "outputs": [
    {
     "data": {
      "text/plain": [
       "int"
      ]
     },
     "execution_count": 37,
     "metadata": {},
     "output_type": "execute_result"
    }
   ],
   "source": [
    "type(a2)"
   ]
  },
  {
   "cell_type": "code",
   "execution_count": 40,
   "id": "b5080e04-4127-4678-94f7-75c87c1024b4",
   "metadata": {},
   "outputs": [],
   "source": [
    "a,b,c,d = 354,'sagar',34.34,True"
   ]
  },
  {
   "cell_type": "code",
   "execution_count": 41,
   "id": "651b5f13-d8ac-40af-85c8-d1751935c269",
   "metadata": {},
   "outputs": [
    {
     "data": {
      "text/plain": [
       "354"
      ]
     },
     "execution_count": 41,
     "metadata": {},
     "output_type": "execute_result"
    }
   ],
   "source": [
    "a"
   ]
  },
  {
   "cell_type": "code",
   "execution_count": 42,
   "id": "99ac0d29-80e7-4a51-a7f6-f3b2ee35064e",
   "metadata": {},
   "outputs": [
    {
     "data": {
      "text/plain": [
       "'sagar'"
      ]
     },
     "execution_count": 42,
     "metadata": {},
     "output_type": "execute_result"
    }
   ],
   "source": [
    "b"
   ]
  },
  {
   "cell_type": "code",
   "execution_count": 43,
   "id": "6d0d1a56-4be7-4795-b8d3-4a4a04e3ccdd",
   "metadata": {},
   "outputs": [
    {
     "data": {
      "text/plain": [
       "34.34"
      ]
     },
     "execution_count": 43,
     "metadata": {},
     "output_type": "execute_result"
    }
   ],
   "source": [
    "c"
   ]
  },
  {
   "cell_type": "code",
   "execution_count": 44,
   "id": "a5481fac-b937-4158-b6c8-6f6d32a5af4c",
   "metadata": {},
   "outputs": [
    {
     "data": {
      "text/plain": [
       "True"
      ]
     },
     "execution_count": 44,
     "metadata": {},
     "output_type": "execute_result"
    }
   ],
   "source": [
    "d"
   ]
  },
  {
   "cell_type": "code",
   "execution_count": 45,
   "id": "41e58ee0-0329-41ae-8c10-29d919f8b222",
   "metadata": {},
   "outputs": [
    {
     "data": {
      "text/plain": [
       "float"
      ]
     },
     "execution_count": 45,
     "metadata": {},
     "output_type": "execute_result"
    }
   ],
   "source": [
    "type(c)"
   ]
  },
  {
   "cell_type": "code",
   "execution_count": 46,
   "id": "feea1c0c-8fc2-413f-801d-fddfa660ebb6",
   "metadata": {},
   "outputs": [
    {
     "data": {
      "text/plain": [
       "bool"
      ]
     },
     "execution_count": 46,
     "metadata": {},
     "output_type": "execute_result"
    }
   ],
   "source": [
    "type(d)"
   ]
  },
  {
   "cell_type": "code",
   "execution_count": 47,
   "id": "1a443216-5172-41ca-a13e-f74c75aaf621",
   "metadata": {},
   "outputs": [
    {
     "data": {
      "text/plain": [
       "int"
      ]
     },
     "execution_count": 47,
     "metadata": {},
     "output_type": "execute_result"
    }
   ],
   "source": [
    "type(a)"
   ]
  },
  {
   "cell_type": "code",
   "execution_count": 48,
   "id": "c29b03a4-b8d9-4f99-84ae-104029a86d31",
   "metadata": {},
   "outputs": [
    {
     "data": {
      "text/plain": [
       "str"
      ]
     },
     "execution_count": 48,
     "metadata": {},
     "output_type": "execute_result"
    }
   ],
   "source": [
    "type(b)"
   ]
  },
  {
   "cell_type": "code",
   "execution_count": 53,
   "id": "4c593cbc-da4a-4397-827f-1846e9f5d023",
   "metadata": {},
   "outputs": [
    {
     "name": "stderr",
     "output_type": "stream",
     "text": [
      "UsageError: Line magic function `%a` not found.\n"
     ]
    }
   ],
   "source": [
    "%a = 234"
   ]
  },
  {
   "cell_type": "code",
   "execution_count": 54,
   "id": "5f44107a-f863-449f-8383-74e7386f0886",
   "metadata": {},
   "outputs": [
    {
     "ename": "SyntaxError",
     "evalue": "invalid decimal literal (4049372724.py, line 1)",
     "output_type": "error",
     "traceback": [
      "\u001b[0;36m  Cell \u001b[0;32mIn[54], line 1\u001b[0;36m\u001b[0m\n\u001b[0;31m    1a = 2345\u001b[0m\n\u001b[0m    ^\u001b[0m\n\u001b[0;31mSyntaxError\u001b[0m\u001b[0;31m:\u001b[0m invalid decimal literal\n"
     ]
    }
   ],
   "source": [
    "1a = 2345"
   ]
  },
  {
   "cell_type": "code",
   "execution_count": 55,
   "id": "11b57f5e-ee29-4323-9e52-840a1ba3dbc0",
   "metadata": {},
   "outputs": [],
   "source": [
    "b0 = 234"
   ]
  },
  {
   "cell_type": "code",
   "execution_count": 56,
   "id": "3906d222-1f5a-48d1-8e3a-0f9dbe0fb546",
   "metadata": {},
   "outputs": [
    {
     "ename": "SyntaxError",
     "evalue": "invalid syntax. Maybe you meant '==' or ':=' instead of '='? (2942117504.py, line 1)",
     "output_type": "error",
     "traceback": [
      "\u001b[0;36m  Cell \u001b[0;32mIn[56], line 1\u001b[0;36m\u001b[0m\n\u001b[0;31m    @h = 313\u001b[0m\n\u001b[0m     ^\u001b[0m\n\u001b[0;31mSyntaxError\u001b[0m\u001b[0;31m:\u001b[0m invalid syntax. Maybe you meant '==' or ':=' instead of '='?\n"
     ]
    }
   ],
   "source": [
    "@h = 313"
   ]
  },
  {
   "cell_type": "code",
   "execution_count": 57,
   "id": "ec549165-508b-4e01-9ced-9e97c8ce50fa",
   "metadata": {},
   "outputs": [],
   "source": [
    "_a=34"
   ]
  },
  {
   "cell_type": "code",
   "execution_count": 58,
   "id": "1219dead-22c3-45cf-8a26-e18fd7e070bd",
   "metadata": {},
   "outputs": [
    {
     "ename": "SyntaxError",
     "evalue": "cannot assign to expression here. Maybe you meant '==' instead of '='? (3061463361.py, line 1)",
     "output_type": "error",
     "traceback": [
      "\u001b[0;36m  Cell \u001b[0;32mIn[58], line 1\u001b[0;36m\u001b[0m\n\u001b[0;31m    -b=23\u001b[0m\n\u001b[0m    ^\u001b[0m\n\u001b[0;31mSyntaxError\u001b[0m\u001b[0;31m:\u001b[0m cannot assign to expression here. Maybe you meant '==' instead of '='?\n"
     ]
    }
   ],
   "source": [
    "-b=23"
   ]
  },
  {
   "cell_type": "code",
   "execution_count": 60,
   "id": "b4fe81f3-a946-4b41-9ded-13628988bdd4",
   "metadata": {},
   "outputs": [
    {
     "ename": "SyntaxError",
     "evalue": "cannot assign to True (685920064.py, line 1)",
     "output_type": "error",
     "traceback": [
      "\u001b[0;36m  Cell \u001b[0;32mIn[60], line 1\u001b[0;36m\u001b[0m\n\u001b[0;31m    True = 45\u001b[0m\n\u001b[0m    ^\u001b[0m\n\u001b[0;31mSyntaxError\u001b[0m\u001b[0;31m:\u001b[0m cannot assign to True\n"
     ]
    }
   ],
   "source": [
    "True = 45\n",
    "#True is reserved keyword"
   ]
  },
  {
   "cell_type": "code",
   "execution_count": 62,
   "id": "508d146e-a610-4fbe-be0f-3b920eac3da1",
   "metadata": {},
   "outputs": [],
   "source": [
    "int = 325\n",
    "# integer is reserved keyword some reserve keyword allow some not"
   ]
  },
  {
   "cell_type": "code",
   "execution_count": 63,
   "id": "be8f9aa8-9fb7-42c2-a0e3-2d1bdce93a31",
   "metadata": {},
   "outputs": [
    {
     "data": {
      "text/plain": [
       "325"
      ]
     },
     "execution_count": 63,
     "metadata": {},
     "output_type": "execute_result"
    }
   ],
   "source": [
    "int"
   ]
  },
  {
   "cell_type": "code",
   "execution_count": 64,
   "id": "573a709f-c4dd-4309-a59f-9265736e1e59",
   "metadata": {},
   "outputs": [],
   "source": [
    "b1 = True"
   ]
  },
  {
   "cell_type": "code",
   "execution_count": 65,
   "id": "f1a2d822-fc0c-4636-be86-f476029d1662",
   "metadata": {},
   "outputs": [],
   "source": [
    "b2 = False"
   ]
  },
  {
   "cell_type": "code",
   "execution_count": 67,
   "id": "6cd3f964-0db2-4e7e-af96-c36d6c99504e",
   "metadata": {},
   "outputs": [
    {
     "data": {
      "text/plain": [
       "1"
      ]
     },
     "execution_count": 67,
     "metadata": {},
     "output_type": "execute_result"
    }
   ],
   "source": [
    "b1-b2\n",
    "#true as 1 ,false means 0"
   ]
  },
  {
   "cell_type": "code",
   "execution_count": 68,
   "id": "6157d38a-6d04-48eb-873b-821c6d6182f2",
   "metadata": {},
   "outputs": [
    {
     "data": {
      "text/plain": [
       "-1"
      ]
     },
     "execution_count": 68,
     "metadata": {},
     "output_type": "execute_result"
    }
   ],
   "source": [
    "b2-b1"
   ]
  },
  {
   "cell_type": "code",
   "execution_count": 69,
   "id": "d337380c-28a7-4919-89fc-a77cfd2d5ba7",
   "metadata": {},
   "outputs": [
    {
     "data": {
      "text/plain": [
       "1"
      ]
     },
     "execution_count": 69,
     "metadata": {},
     "output_type": "execute_result"
    }
   ],
   "source": [
    "b1*b1"
   ]
  },
  {
   "cell_type": "code",
   "execution_count": 71,
   "id": "958f384f-3c66-4435-ad1e-5cdd681debf1",
   "metadata": {},
   "outputs": [
    {
     "ename": "ZeroDivisionError",
     "evalue": "division by zero",
     "output_type": "error",
     "traceback": [
      "\u001b[0;31m---------------------------------------------------------------------------\u001b[0m",
      "\u001b[0;31mZeroDivisionError\u001b[0m                         Traceback (most recent call last)",
      "Cell \u001b[0;32mIn[71], line 1\u001b[0m\n\u001b[0;32m----> 1\u001b[0m \u001b[43mb1\u001b[49m\u001b[38;5;241;43m/\u001b[39;49m\u001b[43mb2\u001b[49m\n\u001b[1;32m      2\u001b[0m \u001b[38;5;66;03m#mathematically is infinte but here if you are dividing anything is zero is division is error here in python program\u001b[39;00m\n\u001b[1;32m      3\u001b[0m \u001b[38;5;66;03m#is numpay overthere try to execute same data there value is infinite\u001b[39;00m\n",
      "\u001b[0;31mZeroDivisionError\u001b[0m: division by zero"
     ]
    }
   ],
   "source": [
    "b1/b2\n",
    "#mathematically is infinte but here if you are dividing anything is zero is division is error here in python program\n",
    "#is numpay overthere try to execute same data there value is infinite"
   ]
  },
  {
   "cell_type": "code",
   "execution_count": 72,
   "id": "13ea75cd-3896-4fdd-93cc-c1d722a9cd5e",
   "metadata": {},
   "outputs": [],
   "source": [
    "s1 = 'my name is sagar singh'"
   ]
  },
  {
   "cell_type": "code",
   "execution_count": 73,
   "id": "b762166b-7942-41bf-a055-ab90295889b5",
   "metadata": {},
   "outputs": [
    {
     "data": {
      "text/plain": [
       "'my name is sagar singh'"
      ]
     },
     "execution_count": 73,
     "metadata": {},
     "output_type": "execute_result"
    }
   ],
   "source": [
    "s1"
   ]
  },
  {
   "cell_type": "code",
   "execution_count": 75,
   "id": "c0da60d1-7bdd-41b8-a937-232047bceb8f",
   "metadata": {},
   "outputs": [
    {
     "data": {
      "text/plain": [
       "str"
      ]
     },
     "execution_count": 75,
     "metadata": {},
     "output_type": "execute_result"
    }
   ],
   "source": [
    "type(s1)"
   ]
  },
  {
   "cell_type": "code",
   "execution_count": 76,
   "id": "9f95d61e-9631-4b2d-a604-c8e8426ec2af",
   "metadata": {},
   "outputs": [
    {
     "ename": "SyntaxError",
     "evalue": "unterminated string literal (detected at line 1) (2402546255.py, line 1)",
     "output_type": "error",
     "traceback": [
      "\u001b[0;36m  Cell \u001b[0;32mIn[76], line 1\u001b[0;36m\u001b[0m\n\u001b[0;31m    s2 = 'this is my first python class for data science master's'\u001b[0m\n\u001b[0m                                                                 ^\u001b[0m\n\u001b[0;31mSyntaxError\u001b[0m\u001b[0;31m:\u001b[0m unterminated string literal (detected at line 1)\n"
     ]
    }
   ],
   "source": [
    "s2 = 'this is my first python class for data science master's'"
   ]
  },
  {
   "cell_type": "code",
   "execution_count": 77,
   "id": "d7aed721-e47c-465a-847e-3f9d21af51e1",
   "metadata": {},
   "outputs": [],
   "source": [
    "s2 = \"this is my first python class for data science master's\""
   ]
  },
  {
   "cell_type": "code",
   "execution_count": 78,
   "id": "7fdaef6c-28e9-42ab-9546-d057dfeb2c70",
   "metadata": {},
   "outputs": [
    {
     "data": {
      "text/plain": [
       "\"this is my first python class for data science master's\""
      ]
     },
     "execution_count": 78,
     "metadata": {},
     "output_type": "execute_result"
    }
   ],
   "source": [
    "s2"
   ]
  },
  {
   "cell_type": "code",
   "execution_count": 79,
   "id": "d8a08da8-39f7-4dd6-8d4d-9cb16fb137d8",
   "metadata": {},
   "outputs": [
    {
     "data": {
      "text/plain": [
       "str"
      ]
     },
     "execution_count": 79,
     "metadata": {},
     "output_type": "execute_result"
    }
   ],
   "source": [
    "type(s2)"
   ]
  },
  {
   "cell_type": "code",
   "execution_count": 82,
   "id": "6ae4c564-b071-4c4a-b8e3-d3497cce2665",
   "metadata": {},
   "outputs": [],
   "source": [
    "#this is my code to create a string variable with quotes\n",
    "s3='this is my first python class for data science master\"s'\n"
   ]
  },
  {
   "cell_type": "code",
   "execution_count": 81,
   "id": "92c6d91f-2dfb-48bb-b756-afc70566655d",
   "metadata": {},
   "outputs": [
    {
     "data": {
      "text/plain": [
       "'this is my first python class for data science master\"s'"
      ]
     },
     "execution_count": 81,
     "metadata": {},
     "output_type": "execute_result"
    }
   ],
   "source": [
    "s3"
   ]
  },
  {
   "cell_type": "code",
   "execution_count": 86,
   "id": "9e6fd761-76f5-41d7-bc56-8e4534ca91b8",
   "metadata": {},
   "outputs": [],
   "source": [
    "'''this is my first python class \n",
    "i am trying to learn variable declarations\n",
    "so far i have learnt int, boolean, string, complex number, float variable decl'''\n",
    "a = 10"
   ]
  },
  {
   "cell_type": "code",
   "execution_count": 87,
   "id": "fc80e6d0-2604-4c7b-b1fd-28e58f7c4701",
   "metadata": {},
   "outputs": [
    {
     "data": {
      "text/plain": [
       "10"
      ]
     },
     "execution_count": 87,
     "metadata": {},
     "output_type": "execute_result"
    }
   ],
   "source": [
    "'''for multiline comment use 3 quote'''\n",
    "a"
   ]
  },
  {
   "cell_type": "code",
   "execution_count": 88,
   "id": "5b37dfe6-180e-4715-8da0-5f28f1817320",
   "metadata": {},
   "outputs": [],
   "source": [
    "s1 = \"sagar\"\n",
    "#s1 is having is data sagar is string"
   ]
  },
  {
   "cell_type": "code",
   "execution_count": 89,
   "id": "d6dda8f6-1bdb-41bc-b950-eb5acb911938",
   "metadata": {},
   "outputs": [],
   "source": [
    "a = 10\n",
    "#a is having is data 10 is integer"
   ]
  },
  {
   "cell_type": "code",
   "execution_count": 90,
   "id": "fa207e5a-8685-46aa-9319-adc832577fee",
   "metadata": {},
   "outputs": [
    {
     "ename": "TypeError",
     "evalue": "can only concatenate str (not \"int\") to str",
     "output_type": "error",
     "traceback": [
      "\u001b[0;31m---------------------------------------------------------------------------\u001b[0m",
      "\u001b[0;31mTypeError\u001b[0m                                 Traceback (most recent call last)",
      "Cell \u001b[0;32mIn[90], line 1\u001b[0m\n\u001b[0;32m----> 1\u001b[0m \u001b[43ms1\u001b[49m\u001b[38;5;241;43m+\u001b[39;49m\u001b[43ma\u001b[49m\n",
      "\u001b[0;31mTypeError\u001b[0m: can only concatenate str (not \"int\") to str"
     ]
    }
   ],
   "source": [
    "s1+a"
   ]
  },
  {
   "cell_type": "code",
   "execution_count": 91,
   "id": "d8f3ce8d-eaf2-4d73-91f1-e7511ae887fc",
   "metadata": {},
   "outputs": [
    {
     "data": {
      "text/plain": [
       "str"
      ]
     },
     "execution_count": 91,
     "metadata": {},
     "output_type": "execute_result"
    }
   ],
   "source": [
    "type(s1)"
   ]
  },
  {
   "cell_type": "code",
   "execution_count": 92,
   "id": "3532769d-06c1-4898-bfc4-cf421ed0ba6a",
   "metadata": {},
   "outputs": [
    {
     "data": {
      "text/plain": [
       "int"
      ]
     },
     "execution_count": 92,
     "metadata": {},
     "output_type": "execute_result"
    }
   ],
   "source": [
    "type(a)"
   ]
  },
  {
   "cell_type": "code",
   "execution_count": 93,
   "id": "853b1daa-62a4-463b-b655-925b6eec60e8",
   "metadata": {},
   "outputs": [
    {
     "data": {
      "text/plain": [
       "'sagarkumar'"
      ]
     },
     "execution_count": 93,
     "metadata": {},
     "output_type": "execute_result"
    }
   ],
   "source": [
    "'sagar' + 'kumar'"
   ]
  },
  {
   "cell_type": "code",
   "execution_count": 94,
   "id": "18e18f97-e69b-40f6-902f-fad5244855ce",
   "metadata": {},
   "outputs": [
    {
     "data": {
      "text/plain": [
       "int"
      ]
     },
     "execution_count": 94,
     "metadata": {},
     "output_type": "execute_result"
    }
   ],
   "source": [
    "type(a)"
   ]
  },
  {
   "cell_type": "code",
   "execution_count": 95,
   "id": "180afa70-7f7f-41cc-96cc-6b84d10fb542",
   "metadata": {},
   "outputs": [
    {
     "data": {
      "text/plain": [
       "'10'"
      ]
     },
     "execution_count": 95,
     "metadata": {},
     "output_type": "execute_result"
    }
   ],
   "source": [
    "str(a)"
   ]
  },
  {
   "cell_type": "code",
   "execution_count": 96,
   "id": "6d6c2d3b-9c50-479a-90cd-b3a4b29f5326",
   "metadata": {},
   "outputs": [
    {
     "data": {
      "text/plain": [
       "str"
      ]
     },
     "execution_count": 96,
     "metadata": {},
     "output_type": "execute_result"
    }
   ],
   "source": [
    "type(str(a))\n",
    "#convert integer to string that is called typecasting"
   ]
  },
  {
   "cell_type": "code",
   "execution_count": 97,
   "id": "3da1cbd6-22e8-46b8-8090-d5bf899d0fa4",
   "metadata": {},
   "outputs": [
    {
     "data": {
      "text/plain": [
       "'sagar10'"
      ]
     },
     "execution_count": 97,
     "metadata": {},
     "output_type": "execute_result"
    }
   ],
   "source": [
    "s1+str(a)"
   ]
  },
  {
   "cell_type": "code",
   "execution_count": 98,
   "id": "85aa8c56-3cce-4c0c-b163-204fa1632721",
   "metadata": {},
   "outputs": [
    {
     "data": {
      "text/plain": [
       "'sagar10'"
      ]
     },
     "execution_count": 98,
     "metadata": {},
     "output_type": "execute_result"
    }
   ],
   "source": [
    "s1+ '' + str(10)"
   ]
  },
  {
   "cell_type": "code",
   "execution_count": 99,
   "id": "78c8f800-5785-4306-8064-cbfc80e53aa8",
   "metadata": {},
   "outputs": [
    {
     "data": {
      "text/plain": [
       "10"
      ]
     },
     "execution_count": 99,
     "metadata": {},
     "output_type": "execute_result"
    }
   ],
   "source": [
    "a"
   ]
  },
  {
   "cell_type": "code",
   "execution_count": 100,
   "id": "90b3ace6-ad58-45f5-8e4b-fc51b9bc01db",
   "metadata": {},
   "outputs": [],
   "source": [
    "b = str(a)"
   ]
  },
  {
   "cell_type": "code",
   "execution_count": 101,
   "id": "0809d98a-de9f-4cad-bbd7-d89797dc2a18",
   "metadata": {},
   "outputs": [
    {
     "data": {
      "text/plain": [
       "'10'"
      ]
     },
     "execution_count": 101,
     "metadata": {},
     "output_type": "execute_result"
    }
   ],
   "source": [
    "b"
   ]
  },
  {
   "cell_type": "code",
   "execution_count": 102,
   "id": "cff15c66-4bc1-4bfd-bea6-98ce1f43b973",
   "metadata": {},
   "outputs": [
    {
     "ename": "TypeError",
     "evalue": "'int' object is not callable",
     "output_type": "error",
     "traceback": [
      "\u001b[0;31m---------------------------------------------------------------------------\u001b[0m",
      "\u001b[0;31mTypeError\u001b[0m                                 Traceback (most recent call last)",
      "Cell \u001b[0;32mIn[102], line 1\u001b[0m\n\u001b[0;32m----> 1\u001b[0m \u001b[38;5;28;43mint\u001b[39;49m\u001b[43m(\u001b[49m\u001b[43mb\u001b[49m\u001b[43m)\u001b[49m\n",
      "\u001b[0;31mTypeError\u001b[0m: 'int' object is not callable"
     ]
    }
   ],
   "source": [
    "int(b)\n",
    "#you are not supposed to do reserved keyword because previously used so is having error\n",
    "#solution restart the kernal "
   ]
  },
  {
   "cell_type": "code",
   "execution_count": 103,
   "id": "1c156c09-a55c-426d-8500-8a1f80dcc108",
   "metadata": {},
   "outputs": [],
   "source": [
    "a = 453253"
   ]
  },
  {
   "cell_type": "code",
   "execution_count": 129,
   "id": "63a21bef-75aa-4bef-af6d-dd2f44f49e4f",
   "metadata": {},
   "outputs": [
    {
     "name": "stdin",
     "output_type": "stream",
     "text": [
      " 4646.5665\n"
     ]
    }
   ],
   "source": [
    "b = float(input())\n"
   ]
  },
  {
   "cell_type": "code",
   "execution_count": 130,
   "id": "24071b67-3780-4be8-ad28-fc140fedc9cf",
   "metadata": {},
   "outputs": [
    {
     "data": {
      "text/plain": [
       "4646.5665"
      ]
     },
     "execution_count": 130,
     "metadata": {},
     "output_type": "execute_result"
    }
   ],
   "source": [
    "b"
   ]
  },
  {
   "cell_type": "code",
   "execution_count": 110,
   "id": "bcf3e845-94f3-402d-8be0-72a80f6e4377",
   "metadata": {},
   "outputs": [
    {
     "data": {
      "text/plain": [
       "str"
      ]
     },
     "execution_count": 110,
     "metadata": {},
     "output_type": "execute_result"
    }
   ],
   "source": [
    "type(b)\n",
    "#whatever input is i am trying to feed is always try to give string is output"
   ]
  },
  {
   "cell_type": "code",
   "execution_count": 131,
   "id": "d5905ffb-a7ee-4d09-972a-69fd22e61ec2",
   "metadata": {},
   "outputs": [
    {
     "data": {
      "text/plain": [
       "4646.5665"
      ]
     },
     "execution_count": 131,
     "metadata": {},
     "output_type": "execute_result"
    }
   ],
   "source": [
    "#cocept of typecasting overhere\n",
    "b"
   ]
  },
  {
   "cell_type": "code",
   "execution_count": 132,
   "id": "6a860313-3d81-4364-833f-d75aa2a42e62",
   "metadata": {},
   "outputs": [
    {
     "data": {
      "text/plain": [
       "float"
      ]
     },
     "execution_count": 132,
     "metadata": {},
     "output_type": "execute_result"
    }
   ],
   "source": [
    "type(b)"
   ]
  },
  {
   "cell_type": "code",
   "execution_count": 133,
   "id": "f64f7d9e-ea7d-4034-9f0f-a2dba576db13",
   "metadata": {},
   "outputs": [
    {
     "name": "stdin",
     "output_type": "stream",
     "text": [
      " 2124\n"
     ]
    }
   ],
   "source": [
    "d = input()"
   ]
  },
  {
   "cell_type": "code",
   "execution_count": 134,
   "id": "c45f0bb1-bd63-47e3-810d-9fbfb821cbc9",
   "metadata": {},
   "outputs": [
    {
     "data": {
      "text/plain": [
       "'2124'"
      ]
     },
     "execution_count": 134,
     "metadata": {},
     "output_type": "execute_result"
    }
   ],
   "source": [
    "d"
   ]
  },
  {
   "cell_type": "code",
   "execution_count": 135,
   "id": "589869ff-48c0-4a15-bdb8-b2acb35fc910",
   "metadata": {},
   "outputs": [
    {
     "data": {
      "text/plain": [
       "str"
      ]
     },
     "execution_count": 135,
     "metadata": {},
     "output_type": "execute_result"
    }
   ],
   "source": [
    "type (d)"
   ]
  },
  {
   "cell_type": "code",
   "execution_count": 136,
   "id": "e699ee7a-b39f-498d-93a6-adf8d8f52ae0",
   "metadata": {},
   "outputs": [
    {
     "name": "stdin",
     "output_type": "stream",
     "text": [
      " True\n"
     ]
    }
   ],
   "source": [
    "'''always outcome is string if concept of typcasting so we can'''\n",
    "d = bool(input())"
   ]
  },
  {
   "cell_type": "code",
   "execution_count": 137,
   "id": "f4551da6-2033-421d-bb5f-0ed5aacdb564",
   "metadata": {},
   "outputs": [
    {
     "data": {
      "text/plain": [
       "True"
      ]
     },
     "execution_count": 137,
     "metadata": {},
     "output_type": "execute_result"
    }
   ],
   "source": [
    "d"
   ]
  },
  {
   "cell_type": "code",
   "execution_count": 138,
   "id": "d193d6aa-1027-4fe0-b4a4-589f9ebeb28c",
   "metadata": {},
   "outputs": [
    {
     "data": {
      "text/plain": [
       "bool"
      ]
     },
     "execution_count": 138,
     "metadata": {},
     "output_type": "execute_result"
    }
   ],
   "source": [
    "type(d)"
   ]
  },
  {
   "cell_type": "code",
   "execution_count": 1,
   "id": "239b2c25-3505-43c3-92a9-93f19de6dd9a",
   "metadata": {},
   "outputs": [
    {
     "name": "stdin",
     "output_type": "stream",
     "text": [
      " 6565\n"
     ]
    }
   ],
   "source": [
    "d = int (input())"
   ]
  },
  {
   "cell_type": "code",
   "execution_count": 2,
   "id": "482aeb9e-350d-4827-b26a-b644aff7819c",
   "metadata": {},
   "outputs": [
    {
     "data": {
      "text/plain": [
       "6565"
      ]
     },
     "execution_count": 2,
     "metadata": {},
     "output_type": "execute_result"
    }
   ],
   "source": [
    "d"
   ]
  },
  {
   "cell_type": "code",
   "execution_count": 3,
   "id": "e737bc46-c15c-4af9-89ee-771f67682448",
   "metadata": {},
   "outputs": [
    {
     "data": {
      "text/plain": [
       "int"
      ]
     },
     "execution_count": 3,
     "metadata": {},
     "output_type": "execute_result"
    }
   ],
   "source": [
    "type (d)"
   ]
  },
  {
   "cell_type": "code",
   "execution_count": 4,
   "id": "04f0a795-09b5-4eaf-852b-97c6abb699e1",
   "metadata": {},
   "outputs": [],
   "source": [
    "s = \"sagar\""
   ]
  },
  {
   "cell_type": "code",
   "execution_count": 5,
   "id": "0a78d038-ae94-4877-951c-fe918c409eff",
   "metadata": {},
   "outputs": [
    {
     "data": {
      "text/plain": [
       "'sagar'"
      ]
     },
     "execution_count": 5,
     "metadata": {},
     "output_type": "execute_result"
    }
   ],
   "source": [
    "'''are you able the extract one single character aur even range of character yes it is possible ,string is basically cobuination of chracter,this is where concept of indexing or concept of slicing comes'''\n",
    "s"
   ]
  },
  {
   "cell_type": "code",
   "execution_count": 12,
   "id": "12d41f42-93ce-4add-b395-84356e1118c8",
   "metadata": {},
   "outputs": [
    {
     "data": {
      "text/plain": [
       "'method forward indexing sagar-01234 and backward indexing ragas--1,-2,-3,-4,-5'"
      ]
     },
     "execution_count": 12,
     "metadata": {},
     "output_type": "execute_result"
    }
   ],
   "source": [
    "s[1]\n",
    "'''method forward indexing sagar-01234 and backward indexing ragas--1,-2,-3,-4,-5'''"
   ]
  },
  {
   "cell_type": "code",
   "execution_count": 13,
   "id": "ae902624-a87c-4f37-bd53-4b3757e0357f",
   "metadata": {},
   "outputs": [
    {
     "data": {
      "text/plain": [
       "'a'"
      ]
     },
     "execution_count": 13,
     "metadata": {},
     "output_type": "execute_result"
    }
   ],
   "source": [
    "s[1]"
   ]
  },
  {
   "cell_type": "code",
   "execution_count": 14,
   "id": "d89c1873-b547-4c00-9a2c-ff1d1350d672",
   "metadata": {},
   "outputs": [
    {
     "data": {
      "text/plain": [
       "'a'"
      ]
     },
     "execution_count": 14,
     "metadata": {},
     "output_type": "execute_result"
    }
   ],
   "source": [
    "s[3]"
   ]
  },
  {
   "cell_type": "code",
   "execution_count": 15,
   "id": "a7e20ae6-233f-442e-88d0-690a0ca8ae69",
   "metadata": {},
   "outputs": [
    {
     "ename": "IndexError",
     "evalue": "string index out of range",
     "output_type": "error",
     "traceback": [
      "\u001b[0;31m---------------------------------------------------------------------------\u001b[0m",
      "\u001b[0;31mIndexError\u001b[0m                                Traceback (most recent call last)",
      "Cell \u001b[0;32mIn[15], line 1\u001b[0m\n\u001b[0;32m----> 1\u001b[0m \u001b[43ms\u001b[49m\u001b[43m[\u001b[49m\u001b[38;5;241;43m100\u001b[39;49m\u001b[43m]\u001b[49m\n",
      "\u001b[0;31mIndexError\u001b[0m: string index out of range"
     ]
    }
   ],
   "source": [
    "s[100]\n",
    "#because out of range is showing error"
   ]
  },
  {
   "cell_type": "code",
   "execution_count": 16,
   "id": "a87771a8-eb28-4088-963c-f00055251430",
   "metadata": {},
   "outputs": [
    {
     "data": {
      "text/plain": [
       "'r'"
      ]
     },
     "execution_count": 16,
     "metadata": {},
     "output_type": "execute_result"
    }
   ],
   "source": [
    "s[-1]"
   ]
  },
  {
   "cell_type": "code",
   "execution_count": 17,
   "id": "86a24c1e-5cb1-4488-b82b-b35710ad8151",
   "metadata": {},
   "outputs": [
    {
     "data": {
      "text/plain": [
       "'a'"
      ]
     },
     "execution_count": 17,
     "metadata": {},
     "output_type": "execute_result"
    }
   ],
   "source": [
    "s[-4]"
   ]
  },
  {
   "cell_type": "code",
   "execution_count": 19,
   "id": "7868fecf-3be4-4a47-90d0-2847e8ad0dc6",
   "metadata": {},
   "outputs": [
    {
     "ename": "IndexError",
     "evalue": "string index out of range",
     "output_type": "error",
     "traceback": [
      "\u001b[0;31m---------------------------------------------------------------------------\u001b[0m",
      "\u001b[0;31mIndexError\u001b[0m                                Traceback (most recent call last)",
      "Cell \u001b[0;32mIn[19], line 1\u001b[0m\n\u001b[0;32m----> 1\u001b[0m \u001b[43ms\u001b[49m\u001b[43m[\u001b[49m\u001b[38;5;241;43m-\u001b[39;49m\u001b[38;5;241;43m34\u001b[39;49m\u001b[43m]\u001b[49m\n\u001b[1;32m      2\u001b[0m \u001b[38;5;66;03m#no such index is available out of range so not be able to outcome\u001b[39;00m\n",
      "\u001b[0;31mIndexError\u001b[0m: string index out of range"
     ]
    }
   ],
   "source": [
    "s[-34]\n",
    "#no such index is available out of range so not be able to outcome"
   ]
  },
  {
   "cell_type": "code",
   "execution_count": 20,
   "id": "f0061ff3-a495-46c2-b480-d8e80307ca85",
   "metadata": {},
   "outputs": [],
   "source": [
    "s1 = \"pwskills\""
   ]
  },
  {
   "cell_type": "code",
   "execution_count": 24,
   "id": "de59ffcb-fa01-4a6a-8288-62679c0f032f",
   "metadata": {},
   "outputs": [
    {
     "data": {
      "text/plain": [
       "'pw'"
      ]
     },
     "execution_count": 24,
     "metadata": {},
     "output_type": "execute_result"
    }
   ],
   "source": [
    "s1[0:2]\n",
    "#here concept of slicing comes if m trying to get pw\n",
    "# start o till 2 but is not extract to data to upperbound\n",
    "#upperbound -1"
   ]
  },
  {
   "cell_type": "code",
   "execution_count": 25,
   "id": "b70a59f1-dae2-4021-9dc7-dadb1a13b377",
   "metadata": {},
   "outputs": [
    {
     "data": {
      "text/plain": [
       "'skill'"
      ]
     },
     "execution_count": 25,
     "metadata": {},
     "output_type": "execute_result"
    }
   ],
   "source": [
    "s1[2:7]"
   ]
  },
  {
   "cell_type": "code",
   "execution_count": 32,
   "id": "1dd1574e-fb5c-483f-85e0-c86fc66fb721",
   "metadata": {},
   "outputs": [
    {
     "data": {
      "text/plain": [
       "'skills'"
      ]
     },
     "execution_count": 32,
     "metadata": {},
     "output_type": "execute_result"
    }
   ],
   "source": [
    "s1[2:8]\n",
    "#8 is not available  butif youre trying to get slicing operation is going to work because range\n",
    "#but in indexing is not going to work because specefic index"
   ]
  },
  {
   "cell_type": "code",
   "execution_count": 31,
   "id": "083e148c-7614-4946-a777-17a114672f78",
   "metadata": {},
   "outputs": [
    {
     "data": {
      "text/plain": [
       "'skills'"
      ]
     },
     "execution_count": 31,
     "metadata": {},
     "output_type": "execute_result"
    }
   ],
   "source": [
    "s1[2:]"
   ]
  },
  {
   "cell_type": "code",
   "execution_count": 33,
   "id": "00e17a5f-2b8a-4d9c-91b7-d2bab0a2c089",
   "metadata": {},
   "outputs": [
    {
     "data": {
      "text/plain": [
       "'pwskill'"
      ]
     },
     "execution_count": 33,
     "metadata": {},
     "output_type": "execute_result"
    }
   ],
   "source": [
    "#question - looking for p,s,i,l\n",
    "s1[0:7]"
   ]
  },
  {
   "cell_type": "code",
   "execution_count": 34,
   "id": "673c8959-3438-4c62-be33-a50bb9d7cab9",
   "metadata": {},
   "outputs": [
    {
     "data": {
      "text/plain": [
       "'psil'"
      ]
     },
     "execution_count": 34,
     "metadata": {},
     "output_type": "execute_result"
    }
   ],
   "source": [
    "'''it has given me complete data so different approch but jump you can use'''\n",
    "s1[0:7:2]"
   ]
  },
  {
   "cell_type": "code",
   "execution_count": 35,
   "id": "4c1ad5f6-52bc-4334-91ef-2e55a8ae25d6",
   "metadata": {},
   "outputs": [
    {
     "data": {
      "text/plain": [
       "'psi'"
      ]
     },
     "execution_count": 35,
     "metadata": {},
     "output_type": "execute_result"
    }
   ],
   "source": [
    "#now is able to extract 2 is jump point\n",
    "s1[0:6:2]"
   ]
  },
  {
   "cell_type": "code",
   "execution_count": 39,
   "id": "eacb676f-65aa-46b9-a6e9-c5458d462f13",
   "metadata": {},
   "outputs": [
    {
     "data": {
      "text/plain": [
       "''"
      ]
     },
     "execution_count": 39,
     "metadata": {},
     "output_type": "execute_result"
    }
   ],
   "source": [
    "#question - extract slli\n",
    "s1[7:2]\n",
    "#7 is starting point positive index and  positive 3 is ending point \n",
    "\n",
    "#backward slicing\n",
    "#jump go through, scale concept"
   ]
  },
  {
   "cell_type": "code",
   "execution_count": 40,
   "id": "5aec945a-9065-413a-b484-b933212e562c",
   "metadata": {},
   "outputs": [
    {
     "data": {
      "text/plain": [
       "'slli'"
      ]
     },
     "execution_count": 40,
     "metadata": {},
     "output_type": "execute_result"
    }
   ],
   "source": [
    "#outcome blank how can we fix this\n",
    "s1[7:3:-1]\n",
    "#-1 jump so there is no conflict"
   ]
  },
  {
   "cell_type": "code",
   "execution_count": 41,
   "id": "23a50c2e-f6b1-4c14-8a66-bf611a05566b",
   "metadata": {},
   "outputs": [
    {
     "data": {
      "text/plain": [
       "''"
      ]
     },
     "execution_count": 41,
     "metadata": {},
     "output_type": "execute_result"
    }
   ],
   "source": [
    "#question - extract slli in different way\n",
    "s1[-1:-5]"
   ]
  },
  {
   "cell_type": "code",
   "execution_count": 44,
   "id": "6643e781-3158-427d-82a1-856143a3d434",
   "metadata": {},
   "outputs": [
    {
     "data": {
      "text/plain": [
       "'slli'"
      ]
     },
     "execution_count": 44,
     "metadata": {},
     "output_type": "execute_result"
    }
   ],
   "source": [
    "#outcome blank how can i fix this\n",
    "s1[-1:-5:-1]\n",
    "#-1 jump so there is no conflict scale concept"
   ]
  },
  {
   "cell_type": "code",
   "execution_count": 45,
   "id": "d9ad2c71-e740-4389-adb2-8249f7d1ad7d",
   "metadata": {},
   "outputs": [
    {
     "data": {
      "text/plain": [
       "''"
      ]
     },
     "execution_count": 45,
     "metadata": {},
     "output_type": "execute_result"
    }
   ],
   "source": [
    "#reverse\n",
    "s1[7:0]"
   ]
  },
  {
   "cell_type": "code",
   "execution_count": 54,
   "id": "96690c5a-2771-455a-b622-b3a700907049",
   "metadata": {},
   "outputs": [
    {
     "data": {
      "text/plain": [
       "'sllikswp'"
      ]
     },
     "execution_count": 54,
     "metadata": {},
     "output_type": "execute_result"
    }
   ],
   "source": [
    "#outcome blank so how can i fix this\n",
    "s1[7:-700:-1]\n",
    "#by dffault is scale concept is going to positive direction so there is conflict \n",
    "#but if -1 jump there is no conflict"
   ]
  },
  {
   "cell_type": "code",
   "execution_count": 51,
   "id": "89a04016-4647-4b3e-acdc-52a4decb2d7a",
   "metadata": {},
   "outputs": [
    {
     "data": {
      "text/plain": [
       "'sllikswp'"
      ]
     },
     "execution_count": 51,
     "metadata": {},
     "output_type": "execute_result"
    }
   ],
   "source": [
    "s1[::-1]"
   ]
  },
  {
   "cell_type": "code",
   "execution_count": 55,
   "id": "503e2619-d5ac-424b-8bb3-6f7419910da4",
   "metadata": {},
   "outputs": [
    {
     "data": {
      "text/plain": [
       "'sllikswp'"
      ]
     },
     "execution_count": 55,
     "metadata": {},
     "output_type": "execute_result"
    }
   ],
   "source": [
    "s1[7::-1]"
   ]
  },
  {
   "cell_type": "code",
   "execution_count": 56,
   "id": "eba0e787-aef6-473e-97f8-56736e4a40e7",
   "metadata": {},
   "outputs": [
    {
     "data": {
      "text/plain": [
       "'pwskills'"
      ]
     },
     "execution_count": 56,
     "metadata": {},
     "output_type": "execute_result"
    }
   ],
   "source": [
    "s1"
   ]
  },
  {
   "cell_type": "code",
   "execution_count": 57,
   "id": "f0d337a4-1c77-4035-a4e0-b85842acbb37",
   "metadata": {},
   "outputs": [
    {
     "data": {
      "text/plain": [
       "'p'"
      ]
     },
     "execution_count": 57,
     "metadata": {},
     "output_type": "execute_result"
    }
   ],
   "source": [
    "s1[0]"
   ]
  },
  {
   "cell_type": "code",
   "execution_count": 58,
   "id": "07a4d8e5-eb39-4532-94dc-6b39e43630ba",
   "metadata": {},
   "outputs": [],
   "source": [
    "#question - replace the 'p' with 's'\n",
    "a=10"
   ]
  },
  {
   "cell_type": "code",
   "execution_count": 59,
   "id": "290bbea2-4ece-4f3f-854a-4a940836fa8b",
   "metadata": {},
   "outputs": [],
   "source": [
    "a=20"
   ]
  },
  {
   "cell_type": "code",
   "execution_count": 60,
   "id": "6d356f8f-9b00-4445-8567-897e2ed391fb",
   "metadata": {},
   "outputs": [
    {
     "data": {
      "text/plain": [
       "20"
      ]
     },
     "execution_count": 60,
     "metadata": {},
     "output_type": "execute_result"
    }
   ],
   "source": [
    "a"
   ]
  },
  {
   "cell_type": "code",
   "execution_count": 61,
   "id": "e4399565-44e9-481a-85b7-9d4e6e907046",
   "metadata": {},
   "outputs": [
    {
     "data": {
      "text/plain": [
       "20"
      ]
     },
     "execution_count": 61,
     "metadata": {},
     "output_type": "execute_result"
    }
   ],
   "source": [
    "#because is going to take the latest value\n",
    "a"
   ]
  },
  {
   "cell_type": "code",
   "execution_count": 62,
   "id": "552e9a3b-25f1-4019-8567-0fa2a30484bf",
   "metadata": {},
   "outputs": [
    {
     "ename": "TypeError",
     "evalue": "'str' object does not support item assignment",
     "output_type": "error",
     "traceback": [
      "\u001b[0;31m---------------------------------------------------------------------------\u001b[0m",
      "\u001b[0;31mTypeError\u001b[0m                                 Traceback (most recent call last)",
      "Cell \u001b[0;32mIn[62], line 1\u001b[0m\n\u001b[0;32m----> 1\u001b[0m \u001b[43ms1\u001b[49m\u001b[43m[\u001b[49m\u001b[38;5;241;43m0\u001b[39;49m\u001b[43m]\u001b[49m\u001b[38;5;241m=\u001b[39m \u001b[38;5;124m'\u001b[39m\u001b[38;5;124ms\u001b[39m\u001b[38;5;124m'\u001b[39m\n",
      "\u001b[0;31mTypeError\u001b[0m: 'str' object does not support item assignment"
     ]
    }
   ],
   "source": [
    "s1[0]= 's'\n",
    "#incase of string item reassignment is not possible\n",
    "#is work of another data type"
   ]
  },
  {
   "cell_type": "code",
   "execution_count": 64,
   "id": "12009978-4215-4559-bee8-22829a3eff93",
   "metadata": {},
   "outputs": [
    {
     "ename": "SyntaxError",
     "evalue": "unterminated string literal (detected at line 2) (1263738142.py, line 2)",
     "output_type": "error",
     "traceback": [
      "\u001b[0;36m  Cell \u001b[0;32mIn[64], line 2\u001b[0;36m\u001b[0m\n\u001b[0;31m    '''because immutibility, says that if you're not able to change that data is any given indexes is called immutable''''\u001b[0m\n\u001b[0m                                                                                                                         ^\u001b[0m\n\u001b[0;31mSyntaxError\u001b[0m\u001b[0;31m:\u001b[0m unterminated string literal (detected at line 2)\n"
     ]
    }
   ],
   "source": [
    "s1[0]= 'p'\n",
    "'''because immutibility, says that if you're not able to change that data is any given indexes is called immutable''''"
   ]
  },
  {
   "cell_type": "code",
   "execution_count": 65,
   "id": "b5c03405-3055-411a-9564-b5dc9ce15cce",
   "metadata": {},
   "outputs": [
    {
     "data": {
      "text/plain": [
       "'p'"
      ]
     },
     "execution_count": 65,
     "metadata": {},
     "output_type": "execute_result"
    }
   ],
   "source": [
    "#string is bascially immutable\n",
    "#if we are go to change data  is mutable\n",
    "s1[0]"
   ]
  },
  {
   "cell_type": "code",
   "execution_count": null,
   "id": "8425a203-13c7-4760-b761-5806f92f5a87",
   "metadata": {},
   "outputs": [],
   "source": []
  }
 ],
 "metadata": {
  "kernelspec": {
   "display_name": "Python 3 (ipykernel)",
   "language": "python",
   "name": "python3"
  },
  "language_info": {
   "codemirror_mode": {
    "name": "ipython",
    "version": 3
   },
   "file_extension": ".py",
   "mimetype": "text/x-python",
   "name": "python",
   "nbconvert_exporter": "python",
   "pygments_lexer": "ipython3",
   "version": "3.10.8"
  }
 },
 "nbformat": 4,
 "nbformat_minor": 5
}
